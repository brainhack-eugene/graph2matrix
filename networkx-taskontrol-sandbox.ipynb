{
 "cells": [
  {
   "cell_type": "code",
   "execution_count": 17,
   "metadata": {
    "collapsed": false
   },
   "outputs": [],
   "source": [
    "from taskontrol.core import statematrix\n",
    "from __future__ import print_function\n",
    "import networkx as nx\n",
    "import seaborn as sns\n",
    "\n",
    "import matplotlib.pyplot as plt\n",
    "%matplotlib inline"
   ]
  },
  {
   "cell_type": "code",
   "execution_count": 2,
   "metadata": {
    "collapsed": false
   },
   "outputs": [
    {
     "name": "stdout",
     "output_type": "stream",
     "text": [
      "\n",
      "\t\t\tCin\tCout\tLin\tLout\tRin\tRout\tTup\t\tTimers\tOutputs\tSerialOut\n",
      "ready_next_trial [0] \t0\t0\t0\t0\t0\t0\t0\t|\t100.00\t--\t0\n",
      "wait_for_cpoke   [1] \t2\t1\t1\t1\t1\t1\t1\t|\t12.00\t-0\t0\n",
      "play_target      [2] \t2\t3\t2\t2\t2\t2\t1\t|\t0.50\t-1\t0\n",
      "wait_for_apoke   [3] \t3\t3\t1\t3\t0\t3\t1\t|\t2.00\t-0\t0\n",
      "\n"
     ]
    }
   ],
   "source": [
    "sm = statematrix.StateMatrix(inputs={'C':0, 'L':1, 'R':2},\n",
    "                             outputs={'centerWater':0, 'centerLED':1},\n",
    "                             readystate='ready_next_trial')\n",
    "\n",
    "sm.add_state(name='wait_for_cpoke', statetimer=12,\n",
    "            transitions={'Cin':'play_target'},\n",
    "            outputsOff=['centerLED'])\n",
    "sm.add_state(name='play_target', statetimer=0.5,\n",
    "            transitions={'Cout':'wait_for_apoke','Tup':'wait_for_cpoke'},\n",
    "            outputsOn=['centerLED'])\n",
    "sm.add_state(name='wait_for_apoke', statetimer=2,\n",
    "            transitions={'Rin':'ready_next_trial','Lin':'wait_for_cpoke','Tup':'wait_for_cpoke'},\n",
    "            outputsOff=['centerLED'])\n",
    "\n",
    "print(sm)\n",
    "\n",
    "# wait_for_apoke is not printed in matrix"
   ]
  },
  {
   "cell_type": "code",
   "execution_count": 3,
   "metadata": {
    "collapsed": false
   },
   "outputs": [
    {
     "data": {
      "text/plain": [
       "[[0, 0, 0, 0, 0, 0, 0],\n",
       " [2, 1, 1, 1, 1, 1, 1],\n",
       " [2, 3, 2, 2, 2, 2, 1],\n",
       " [3, 3, 1, 3, 0, 3, 1]]"
      ]
     },
     "execution_count": 3,
     "metadata": {},
     "output_type": "execute_result"
    }
   ],
   "source": [
    "sm.stateMatrix"
   ]
  },
  {
   "cell_type": "code",
   "execution_count": 4,
   "metadata": {
    "collapsed": false
   },
   "outputs": [
    {
     "data": {
      "text/plain": [
       "{0: 'ready_next_trial',\n",
       " 1: 'wait_for_cpoke',\n",
       " 2: 'play_target',\n",
       " 3: 'wait_for_apoke'}"
      ]
     },
     "execution_count": 4,
     "metadata": {},
     "output_type": "execute_result"
    }
   ],
   "source": [
    "sm.statesIndexToName"
   ]
  },
  {
   "cell_type": "code",
   "execution_count": 5,
   "metadata": {
    "collapsed": false
   },
   "outputs": [
    {
     "data": {
      "text/plain": [
       "'ready_next_trial'"
      ]
     },
     "execution_count": 5,
     "metadata": {},
     "output_type": "execute_result"
    }
   ],
   "source": [
    "sm.readyForNextTrialStateName"
   ]
  },
  {
   "cell_type": "code",
   "execution_count": 21,
   "metadata": {
    "collapsed": false
   },
   "outputs": [
    {
     "data": {
      "text/plain": [
       "{'Cin': 0,\n",
       " 'Cout': 1,\n",
       " 'Forced': -1,\n",
       " 'Lin': 2,\n",
       " 'Lout': 3,\n",
       " 'Rin': 4,\n",
       " 'Rout': 5,\n",
       " 'Tup': 6}"
      ]
     },
     "execution_count": 21,
     "metadata": {},
     "output_type": "execute_result"
    }
   ],
   "source": [
    "sm.eventsDict"
   ]
  },
  {
   "cell_type": "code",
   "execution_count": 36,
   "metadata": {
    "collapsed": true
   },
   "outputs": [],
   "source": [
    "invertEventsDict = {v: k for k, v in sm.eventsDict.iteritems()}"
   ]
  },
  {
   "cell_type": "code",
   "execution_count": 38,
   "metadata": {
    "collapsed": false
   },
   "outputs": [
    {
     "data": {
      "text/plain": [
       "{-1: 'Forced',\n",
       " 0: 'Cin',\n",
       " 1: 'Cout',\n",
       " 2: 'Lin',\n",
       " 3: 'Lout',\n",
       " 4: 'Rin',\n",
       " 5: 'Rout',\n",
       " 6: 'Tup'}"
      ]
     },
     "execution_count": 38,
     "metadata": {},
     "output_type": "execute_result"
    }
   ],
   "source": [
    "invertEventsDict"
   ]
  },
  {
   "cell_type": "code",
   "execution_count": 8,
   "metadata": {
    "collapsed": false
   },
   "outputs": [
    {
     "data": {
      "text/plain": [
       "{'play_target': 2,\n",
       " 'ready_next_trial': 0,\n",
       " 'wait_for_apoke': 3,\n",
       " 'wait_for_cpoke': 1}"
      ]
     },
     "execution_count": 8,
     "metadata": {},
     "output_type": "execute_result"
    }
   ],
   "source": [
    "sm.get_states_dict()"
   ]
  },
  {
   "cell_type": "code",
   "execution_count": 9,
   "metadata": {
    "collapsed": true
   },
   "outputs": [],
   "source": [
    "stateGraph = nx.MultiDiGraph()"
   ]
  },
  {
   "cell_type": "code",
   "execution_count": 10,
   "metadata": {
    "collapsed": false
   },
   "outputs": [
    {
     "data": {
      "text/plain": [
       "'ready_next_trial'"
      ]
     },
     "execution_count": 10,
     "metadata": {},
     "output_type": "execute_result"
    }
   ],
   "source": [
    "sm.readyForNextTrialStateName"
   ]
  },
  {
   "cell_type": "code",
   "execution_count": 60,
   "metadata": {
    "collapsed": false
   },
   "outputs": [],
   "source": [
    "# If index is True it will plot the row/state number, else it prints the state name\n",
    "def plot_transitions(stateGraph, stateMatrix, statesDict, index=False, verbose=True):\n",
    "    for key in statesDict.keys():\n",
    "        value = statesDict[key]\n",
    "        if sm.readyForNextTrialStateName != key:\n",
    "            transitions = stateMatrix[statesDict[key]]\n",
    "\n",
    "            for transition in transitions:\n",
    "                #print(invertEventsDict[transition])\n",
    "                if verbose: print(value, transition)\n",
    "                if index:\n",
    "                    stateGraph.add_edge(value, transition, path=invertEventsDict[transition])\n",
    "                else:\n",
    "                    stateGraph.add_edge(sm.statesIndexToName[value], sm.statesIndexToName[transition], path=invertEventsDict[transition])\n",
    "    "
   ]
  },
  {
   "cell_type": "code",
   "execution_count": 61,
   "metadata": {
    "collapsed": false
   },
   "outputs": [
    {
     "data": {
      "image/png": "[encoded data removed]",
      "text/plain": [
       "<matplotlib.figure.Figure at 0x117427e50>"
      ]
     },
     "metadata": {},
     "output_type": "display_data"
    }
   ],
   "source": [
    "stateGraph = nx.DiGraph()\n",
    "stateMatrix = sm.stateMatrix\n",
    "statesDict = sm.get_states_dict()\n",
    "\n",
    "plt.figure(figsize=(10,10))\n",
    "plot_transitions(stateGraph, stateMatrix, statesDict, index=False, verbose=False)\n",
    "nx.draw_networkx(stateGraph)"
   ]
  },
  {
   "cell_type": "code",
   "execution_count": 62,
   "metadata": {
    "collapsed": false
   },
   "outputs": [
    {
     "data": {
      "text/plain": [
       "['wait_for_cpoke', 'ready_next_trial', 'play_target', 'wait_for_apoke']"
      ]
     },
     "execution_count": 62,
     "metadata": {},
     "output_type": "execute_result"
    }
   ],
   "source": [
    "stateGraph.nodes()"
   ]
  },
  {
   "cell_type": "code",
   "execution_count": 63,
   "metadata": {
    "collapsed": false
   },
   "outputs": [
    {
     "data": {
      "text/plain": [
       "['wait_for_cpoke', 'play_target']"
      ]
     },
     "execution_count": 63,
     "metadata": {},
     "output_type": "execute_result"
    }
   ],
   "source": [
    "stateGraph.neighbors('wait_for_cpoke')"
   ]
  },
  {
   "cell_type": "code",
   "execution_count": 64,
   "metadata": {
    "collapsed": false
   },
   "outputs": [
    {
     "data": {
      "text/plain": [
       "['wait_for_cpoke', 'ready_next_trial', 'wait_for_apoke']"
      ]
     },
     "execution_count": 64,
     "metadata": {},
     "output_type": "execute_result"
    }
   ],
   "source": [
    "stateGraph.neighbors('wait_for_apoke')"
   ]
  },
  {
   "cell_type": "code",
   "execution_count": 65,
   "metadata": {
    "collapsed": false
   },
   "outputs": [
    {
     "data": {
      "text/plain": [
       "'Cin'"
      ]
     },
     "execution_count": 65,
     "metadata": {},
     "output_type": "execute_result"
    }
   ],
   "source": [
    "stateGraph['wait_for_apoke']['ready_next_trial']['path']"
   ]
  },
  {
   "cell_type": "code",
   "execution_count": null,
   "metadata": {
    "collapsed": true
   },
   "outputs": [],
   "source": []
  }
 ],
 "metadata": {
  "kernelspec": {
   "display_name": "Python 2",
   "language": "python",
   "name": "python2"
  },
  "language_info": {
   "codemirror_mode": {
    "name": "ipython",
    "version": 2
   },
   "file_extension": ".py",
   "mimetype": "text/x-python",
   "name": "python",
   "nbconvert_exporter": "python",
   "pygments_lexer": "ipython2",
   "version": "2.7.13"
  }
 },
 "nbformat": 4,
 "nbformat_minor": 2
}
